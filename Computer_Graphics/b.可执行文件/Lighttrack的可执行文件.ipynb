{
  "nbformat": 4,
  "nbformat_minor": 0,
  "metadata": {
    "colab": {
      "name": "light track的可执行文件",
      "provenance": [],
      "collapsed_sections": []
    },
    "kernelspec": {
      "name": "python3",
      "display_name": "Python 3"
    },
    "language_info": {
      "name": "python"
    }
  },
  "cells": [
    {
      "cell_type": "markdown",
      "source": [
        "进入lighttrack文件夹"
      ],
      "metadata": {
        "id": "CYyW-prN-Upa"
      }
    },
    {
      "cell_type": "code",
      "source": [
        "! cd lighttrack"
      ],
      "metadata": {
        "id": "IgKlIE9L-p_H"
      },
      "execution_count": null,
      "outputs": []
    },
    {
      "cell_type": "markdown",
      "source": [
        "安装配置环境"
      ],
      "metadata": {
        "id": "FDat9hVs-7oZ"
      }
    },
    {
      "cell_type": "code",
      "source": [
        "! pip install torch==1.1.0 torchvision==0.3.0\n",
        "! pip install tensorflow==1.13.1"
      ],
      "metadata": {
        "colab": {
          "base_uri": "https://localhost:8080/"
        },
        "id": "8OpMBCYpWbdW",
        "outputId": "b1354470-c76f-47cd-eacc-62da8a21d427"
      },
      "execution_count": null,
      "outputs": [
        {
          "output_type": "stream",
          "name": "stdout",
          "text": [
            "Collecting torch==1.1.0\n",
            "  Downloading torch-1.1.0-cp37-cp37m-manylinux1_x86_64.whl (676.9 MB)\n",
            "\u001b[K     |████████████████████████████████| 676.9 MB 3.8 kB/s \n",
            "\u001b[?25hCollecting torchvision==0.3.0\n",
            "  Downloading torchvision-0.3.0-cp37-cp37m-manylinux1_x86_64.whl (2.6 MB)\n",
            "\u001b[K     |████████████████████████████████| 2.6 MB 40.0 MB/s \n",
            "\u001b[?25hRequirement already satisfied: numpy in /usr/local/lib/python3.7/dist-packages (from torch==1.1.0) (1.19.5)\n",
            "Requirement already satisfied: six in /usr/local/lib/python3.7/dist-packages (from torchvision==0.3.0) (1.15.0)\n",
            "Requirement already satisfied: pillow>=4.1.1 in /usr/local/lib/python3.7/dist-packages (from torchvision==0.3.0) (7.1.2)\n",
            "Installing collected packages: torch, torchvision\n",
            "  Attempting uninstall: torch\n",
            "    Found existing installation: torch 1.10.0+cu111\n",
            "    Uninstalling torch-1.10.0+cu111:\n",
            "      Successfully uninstalled torch-1.10.0+cu111\n",
            "  Attempting uninstall: torchvision\n",
            "    Found existing installation: torchvision 0.11.1+cu111\n",
            "    Uninstalling torchvision-0.11.1+cu111:\n",
            "      Successfully uninstalled torchvision-0.11.1+cu111\n",
            "\u001b[31mERROR: pip's dependency resolver does not currently take into account all the packages that are installed. This behaviour is the source of the following dependency conflicts.\n",
            "torchtext 0.11.0 requires torch==1.10.0, but you have torch 1.1.0 which is incompatible.\n",
            "torchaudio 0.10.0+cu111 requires torch==1.10.0, but you have torch 1.1.0 which is incompatible.\u001b[0m\n",
            "Successfully installed torch-1.1.0 torchvision-0.3.0\n",
            "Collecting tensorflow==1.13.1\n",
            "  Downloading tensorflow-1.13.1-cp37-cp37m-manylinux1_x86_64.whl (92.6 MB)\n",
            "\u001b[K     |████████████████████████████████| 92.6 MB 68 kB/s \n",
            "\u001b[?25hRequirement already satisfied: absl-py>=0.1.6 in /usr/local/lib/python3.7/dist-packages (from tensorflow==1.13.1) (0.12.0)\n",
            "Requirement already satisfied: astor>=0.6.0 in /usr/local/lib/python3.7/dist-packages (from tensorflow==1.13.1) (0.8.1)\n",
            "Collecting keras-applications>=1.0.6\n",
            "  Downloading Keras_Applications-1.0.8-py3-none-any.whl (50 kB)\n",
            "\u001b[K     |████████████████████████████████| 50 kB 6.6 MB/s \n",
            "\u001b[?25hCollecting tensorboard<1.14.0,>=1.13.0\n",
            "  Downloading tensorboard-1.13.1-py3-none-any.whl (3.2 MB)\n",
            "\u001b[K     |████████████████████████████████| 3.2 MB 30.7 MB/s \n",
            "\u001b[?25hCollecting tensorflow-estimator<1.14.0rc0,>=1.13.0\n",
            "  Downloading tensorflow_estimator-1.13.0-py2.py3-none-any.whl (367 kB)\n",
            "\u001b[K     |████████████████████████████████| 367 kB 47.4 MB/s \n",
            "\u001b[?25hRequirement already satisfied: protobuf>=3.6.1 in /usr/local/lib/python3.7/dist-packages (from tensorflow==1.13.1) (3.17.3)\n",
            "Requirement already satisfied: keras-preprocessing>=1.0.5 in /usr/local/lib/python3.7/dist-packages (from tensorflow==1.13.1) (1.1.2)\n",
            "Requirement already satisfied: gast>=0.2.0 in /usr/local/lib/python3.7/dist-packages (from tensorflow==1.13.1) (0.4.0)\n",
            "Requirement already satisfied: numpy>=1.13.3 in /usr/local/lib/python3.7/dist-packages (from tensorflow==1.13.1) (1.19.5)\n",
            "Requirement already satisfied: termcolor>=1.1.0 in /usr/local/lib/python3.7/dist-packages (from tensorflow==1.13.1) (1.1.0)\n",
            "Requirement already satisfied: grpcio>=1.8.6 in /usr/local/lib/python3.7/dist-packages (from tensorflow==1.13.1) (1.42.0)\n",
            "Requirement already satisfied: wheel>=0.26 in /usr/local/lib/python3.7/dist-packages (from tensorflow==1.13.1) (0.37.0)\n",
            "Requirement already satisfied: six>=1.10.0 in /usr/local/lib/python3.7/dist-packages (from tensorflow==1.13.1) (1.15.0)\n",
            "Requirement already satisfied: h5py in /usr/local/lib/python3.7/dist-packages (from keras-applications>=1.0.6->tensorflow==1.13.1) (3.1.0)\n",
            "Requirement already satisfied: werkzeug>=0.11.15 in /usr/local/lib/python3.7/dist-packages (from tensorboard<1.14.0,>=1.13.0->tensorflow==1.13.1) (1.0.1)\n",
            "Requirement already satisfied: markdown>=2.6.8 in /usr/local/lib/python3.7/dist-packages (from tensorboard<1.14.0,>=1.13.0->tensorflow==1.13.1) (3.3.6)\n",
            "Requirement already satisfied: importlib-metadata>=4.4 in /usr/local/lib/python3.7/dist-packages (from markdown>=2.6.8->tensorboard<1.14.0,>=1.13.0->tensorflow==1.13.1) (4.8.2)\n",
            "Requirement already satisfied: zipp>=0.5 in /usr/local/lib/python3.7/dist-packages (from importlib-metadata>=4.4->markdown>=2.6.8->tensorboard<1.14.0,>=1.13.0->tensorflow==1.13.1) (3.6.0)\n",
            "Requirement already satisfied: typing-extensions>=3.6.4 in /usr/local/lib/python3.7/dist-packages (from importlib-metadata>=4.4->markdown>=2.6.8->tensorboard<1.14.0,>=1.13.0->tensorflow==1.13.1) (3.10.0.2)\n",
            "Collecting mock>=2.0.0\n",
            "  Downloading mock-4.0.3-py3-none-any.whl (28 kB)\n",
            "Requirement already satisfied: cached-property in /usr/local/lib/python3.7/dist-packages (from h5py->keras-applications>=1.0.6->tensorflow==1.13.1) (1.5.2)\n",
            "Installing collected packages: mock, tensorflow-estimator, tensorboard, keras-applications, tensorflow\n",
            "  Attempting uninstall: tensorflow-estimator\n",
            "    Found existing installation: tensorflow-estimator 2.7.0\n",
            "    Uninstalling tensorflow-estimator-2.7.0:\n",
            "      Successfully uninstalled tensorflow-estimator-2.7.0\n",
            "  Attempting uninstall: tensorboard\n",
            "    Found existing installation: tensorboard 2.7.0\n",
            "    Uninstalling tensorboard-2.7.0:\n",
            "      Successfully uninstalled tensorboard-2.7.0\n",
            "  Attempting uninstall: tensorflow\n",
            "    Found existing installation: tensorflow 2.7.0\n",
            "    Uninstalling tensorflow-2.7.0:\n",
            "      Successfully uninstalled tensorflow-2.7.0\n",
            "\u001b[31mERROR: pip's dependency resolver does not currently take into account all the packages that are installed. This behaviour is the source of the following dependency conflicts.\n",
            "kapre 0.3.6 requires tensorflow>=2.0.0, but you have tensorflow 1.13.1 which is incompatible.\u001b[0m\n",
            "Successfully installed keras-applications-1.0.8 mock-4.0.3 tensorboard-1.13.1 tensorflow-1.13.1 tensorflow-estimator-1.13.0\n"
          ]
        }
      ]
    },
    {
      "cell_type": "code",
      "source": [
        "!pip install cython opencv-python pillow matplotlib"
      ],
      "metadata": {
        "colab": {
          "base_uri": "https://localhost:8080/"
        },
        "id": "u95mILdFW-7B",
        "outputId": "4f8bedf8-c838-43ef-d3ae-c86cbe6f7452"
      },
      "execution_count": null,
      "outputs": [
        {
          "output_type": "stream",
          "name": "stdout",
          "text": [
            "Requirement already satisfied: cython in /usr/local/lib/python3.7/dist-packages (0.29.24)\n",
            "Requirement already satisfied: opencv-python in /usr/local/lib/python3.7/dist-packages (4.1.2.30)\n",
            "Requirement already satisfied: pillow in /usr/local/lib/python3.7/dist-packages (7.1.2)\n",
            "Requirement already satisfied: matplotlib in /usr/local/lib/python3.7/dist-packages (3.2.2)\n",
            "Requirement already satisfied: numpy>=1.14.5 in /usr/local/lib/python3.7/dist-packages (from opencv-python) (1.19.5)\n",
            "Requirement already satisfied: cycler>=0.10 in /usr/local/lib/python3.7/dist-packages (from matplotlib) (0.11.0)\n",
            "Requirement already satisfied: kiwisolver>=1.0.1 in /usr/local/lib/python3.7/dist-packages (from matplotlib) (1.3.2)\n",
            "Requirement already satisfied: python-dateutil>=2.1 in /usr/local/lib/python3.7/dist-packages (from matplotlib) (2.8.2)\n",
            "Requirement already satisfied: pyparsing!=2.0.4,!=2.1.2,!=2.1.6,>=2.0.1 in /usr/local/lib/python3.7/dist-packages (from matplotlib) (3.0.6)\n",
            "Requirement already satisfied: six>=1.5 in /usr/local/lib/python3.7/dist-packages (from python-dateutil>=2.1->matplotlib) (1.15.0)\n"
          ]
        }
      ]
    },
    {
      "cell_type": "code",
      "source": [
        "! cd lib"
      ],
      "metadata": {
        "colab": {
          "base_uri": "https://localhost:8080/"
        },
        "id": "w2bE_WuwYHAq",
        "outputId": "19604a91-8aaf-4d24-a928-41dc4e04005a"
      },
      "execution_count": null,
      "outputs": [
        {
          "output_type": "stream",
          "name": "stdout",
          "text": [
            "/content/lighttrack/lib\n"
          ]
        }
      ]
    },
    {
      "cell_type": "markdown",
      "source": [
        "开始编译"
      ],
      "metadata": {
        "id": "SAi043W9_L1E"
      }
    },
    {
      "cell_type": "code",
      "source": [
        "! make"
      ],
      "metadata": {
        "colab": {
          "base_uri": "https://localhost:8080/"
        },
        "id": "j6VB4rt6YO5e",
        "outputId": "c4006be9-7fa8-4917-bcc6-ab49e7e60450"
      },
      "execution_count": null,
      "outputs": [
        {
          "output_type": "stream",
          "name": "stdout",
          "text": [
            "#python3.5 setup.py build_ext --inplace\n",
            "python setup.py build_ext --inplace\n",
            "running build_ext\n",
            "skipping 'utils/bbox.c' Cython extension (up-to-date)\n",
            "skipping 'utils/nms.c' Cython extension (up-to-date)\n",
            "skipping 'nms/cpu_nms.c' Cython extension (up-to-date)\n",
            "skipping 'nms/gpu_nms.cpp' Cython extension (up-to-date)\n",
            "building 'utils.cython_bbox' extension\n",
            "creating build\n",
            "creating build/temp.linux-x86_64-3.7\n",
            "creating build/temp.linux-x86_64-3.7/utils\n",
            "{'gcc': ['-Wno-cpp', '-Wno-unused-function']}\n",
            "x86_64-linux-gnu-gcc -pthread -Wno-unused-result -Wsign-compare -DNDEBUG -g -fwrapv -O2 -Wall -g -fdebug-prefix-map=/build/python3.7-Y7dWVB/python3.7-3.7.12=. -fstack-protector-strong -Wformat -Werror=format-security -g -fdebug-prefix-map=/build/python3.7-Y7dWVB/python3.7-3.7.12=. -fstack-protector-strong -Wformat -Werror=format-security -Wdate-time -D_FORTIFY_SOURCE=2 -fPIC -I/usr/local/lib/python3.7/dist-packages/numpy/core/include -I/usr/include/python3.7m -c utils/bbox.c -o build/temp.linux-x86_64-3.7/utils/bbox.o -Wno-cpp -Wno-unused-function\n",
            "x86_64-linux-gnu-gcc -pthread -shared -Wl,-O1 -Wl,-Bsymbolic-functions -Wl,-Bsymbolic-functions -Wl,-z,relro -Wl,-Bsymbolic-functions -Wl,-z,relro -g -fdebug-prefix-map=/build/python3.7-Y7dWVB/python3.7-3.7.12=. -fstack-protector-strong -Wformat -Werror=format-security -Wdate-time -D_FORTIFY_SOURCE=2 build/temp.linux-x86_64-3.7/utils/bbox.o -o /content/lighttrack/lib/utils/cython_bbox.cpython-37m-x86_64-linux-gnu.so\n",
            "building 'utils.cython_nms' extension\n",
            "{'gcc': ['-Wno-cpp', '-Wno-unused-function']}\n",
            "x86_64-linux-gnu-gcc -pthread -Wno-unused-result -Wsign-compare -DNDEBUG -g -fwrapv -O2 -Wall -g -fdebug-prefix-map=/build/python3.7-Y7dWVB/python3.7-3.7.12=. -fstack-protector-strong -Wformat -Werror=format-security -g -fdebug-prefix-map=/build/python3.7-Y7dWVB/python3.7-3.7.12=. -fstack-protector-strong -Wformat -Werror=format-security -Wdate-time -D_FORTIFY_SOURCE=2 -fPIC -I/usr/local/lib/python3.7/dist-packages/numpy/core/include -I/usr/include/python3.7m -c utils/nms.c -o build/temp.linux-x86_64-3.7/utils/nms.o -Wno-cpp -Wno-unused-function\n",
            "x86_64-linux-gnu-gcc -pthread -shared -Wl,-O1 -Wl,-Bsymbolic-functions -Wl,-Bsymbolic-functions -Wl,-z,relro -Wl,-Bsymbolic-functions -Wl,-z,relro -g -fdebug-prefix-map=/build/python3.7-Y7dWVB/python3.7-3.7.12=. -fstack-protector-strong -Wformat -Werror=format-security -Wdate-time -D_FORTIFY_SOURCE=2 build/temp.linux-x86_64-3.7/utils/nms.o -o /content/lighttrack/lib/utils/cython_nms.cpython-37m-x86_64-linux-gnu.so\n",
            "building 'nms.cpu_nms' extension\n",
            "creating build/temp.linux-x86_64-3.7/nms\n",
            "{'gcc': ['-Wno-cpp', '-Wno-unused-function']}\n",
            "x86_64-linux-gnu-gcc -pthread -Wno-unused-result -Wsign-compare -DNDEBUG -g -fwrapv -O2 -Wall -g -fdebug-prefix-map=/build/python3.7-Y7dWVB/python3.7-3.7.12=. -fstack-protector-strong -Wformat -Werror=format-security -g -fdebug-prefix-map=/build/python3.7-Y7dWVB/python3.7-3.7.12=. -fstack-protector-strong -Wformat -Werror=format-security -Wdate-time -D_FORTIFY_SOURCE=2 -fPIC -I/usr/local/lib/python3.7/dist-packages/numpy/core/include -I/usr/include/python3.7m -c nms/cpu_nms.c -o build/temp.linux-x86_64-3.7/nms/cpu_nms.o -Wno-cpp -Wno-unused-function\n",
            "x86_64-linux-gnu-gcc -pthread -shared -Wl,-O1 -Wl,-Bsymbolic-functions -Wl,-Bsymbolic-functions -Wl,-z,relro -Wl,-Bsymbolic-functions -Wl,-z,relro -g -fdebug-prefix-map=/build/python3.7-Y7dWVB/python3.7-3.7.12=. -fstack-protector-strong -Wformat -Werror=format-security -Wdate-time -D_FORTIFY_SOURCE=2 build/temp.linux-x86_64-3.7/nms/cpu_nms.o -o /content/lighttrack/lib/nms/cpu_nms.cpython-37m-x86_64-linux-gnu.so\n",
            "building 'nms.gpu_nms' extension\n",
            "{'gcc': ['-Wno-unused-function'], 'nvcc': ['-arch=sm_52', '--ptxas-options=-v', '-c', '--compiler-options', \"'-fPIC'\"]}\n",
            "/usr/local/cuda/bin/nvcc -I/usr/local/lib/python3.7/dist-packages/numpy/core/include -I/usr/local/cuda/include -I/usr/include/python3.7m -c nms/nms_kernel.cu -o build/temp.linux-x86_64-3.7/nms/nms_kernel.o -arch=sm_52 --ptxas-options=-v -c --compiler-options '-fPIC'\n",
            "ptxas info    : 0 bytes gmem\n",
            "ptxas info    : Compiling entry function '_Z10nms_kernelifPKfPy' for 'sm_52'\n",
            "ptxas info    : Function properties for _Z10nms_kernelifPKfPy\n",
            "    0 bytes stack frame, 0 bytes spill stores, 0 bytes spill loads\n",
            "ptxas info    : Used 24 registers, 1280 bytes smem, 344 bytes cmem[0], 12 bytes cmem[2]\n",
            "{'gcc': ['-Wno-unused-function'], 'nvcc': ['-arch=sm_52', '--ptxas-options=-v', '-c', '--compiler-options', \"'-fPIC'\"]}\n",
            "x86_64-linux-gnu-gcc -pthread -Wno-unused-result -Wsign-compare -DNDEBUG -g -fwrapv -O2 -Wall -g -fdebug-prefix-map=/build/python3.7-Y7dWVB/python3.7-3.7.12=. -fstack-protector-strong -Wformat -Werror=format-security -g -fdebug-prefix-map=/build/python3.7-Y7dWVB/python3.7-3.7.12=. -fstack-protector-strong -Wformat -Werror=format-security -Wdate-time -D_FORTIFY_SOURCE=2 -fPIC -I/usr/local/lib/python3.7/dist-packages/numpy/core/include -I/usr/local/cuda/include -I/usr/include/python3.7m -c nms/gpu_nms.cpp -o build/temp.linux-x86_64-3.7/nms/gpu_nms.o -Wno-unused-function\n",
            "In file included from \u001b[01m\u001b[K/usr/local/lib/python3.7/dist-packages/numpy/core/include/numpy/ndarraytypes.h:1822:0\u001b[m\u001b[K,\n",
            "                 from \u001b[01m\u001b[K/usr/local/lib/python3.7/dist-packages/numpy/core/include/numpy/ndarrayobject.h:12\u001b[m\u001b[K,\n",
            "                 from \u001b[01m\u001b[K/usr/local/lib/python3.7/dist-packages/numpy/core/include/numpy/arrayobject.h:4\u001b[m\u001b[K,\n",
            "                 from \u001b[01m\u001b[Knms/gpu_nms.cpp:346\u001b[m\u001b[K:\n",
            "\u001b[01m\u001b[K/usr/local/lib/python3.7/dist-packages/numpy/core/include/numpy/npy_1_7_deprecated_api.h:17:2:\u001b[m\u001b[K \u001b[01;35m\u001b[Kwarning: \u001b[m\u001b[K#warning \"Using deprecated NumPy API, disable it with \" \"#define NPY_NO_DEPRECATED_API NPY_1_7_API_VERSION\" [\u001b[01;35m\u001b[K-Wcpp\u001b[m\u001b[K]\n",
            " #\u001b[01;35m\u001b[Kwarning\u001b[m\u001b[K \"Using deprecated NumPy API, disable it with \" \\\n",
            "  \u001b[01;35m\u001b[K^~~~~~~\u001b[m\u001b[K\n",
            "x86_64-linux-gnu-g++ -pthread -shared -Wl,-O1 -Wl,-Bsymbolic-functions -Wl,-Bsymbolic-functions -Wl,-z,relro -Wl,-Bsymbolic-functions -Wl,-z,relro -g -fdebug-prefix-map=/build/python3.7-Y7dWVB/python3.7-3.7.12=. -fstack-protector-strong -Wformat -Werror=format-security -Wdate-time -D_FORTIFY_SOURCE=2 build/temp.linux-x86_64-3.7/nms/nms_kernel.o build/temp.linux-x86_64-3.7/nms/gpu_nms.o -L/usr/local/cuda/lib64 -Wl,--enable-new-dtags,-R/usr/local/cuda/lib64 -lcudart -o /content/lighttrack/lib/nms/gpu_nms.cpython-37m-x86_64-linux-gnu.so\n",
            "rm -rf build\n"
          ]
        }
      ]
    },
    {
      "cell_type": "code",
      "source": [
        "! cd ..\n",
        "! cd graph/torchlight"
      ],
      "metadata": {
        "colab": {
          "base_uri": "https://localhost:8080/"
        },
        "id": "uQmllxW7YR4r",
        "outputId": "2d29766d-7564-4f3d-88c5-597bc61f02a6"
      },
      "execution_count": null,
      "outputs": [
        {
          "output_type": "stream",
          "name": "stdout",
          "text": [
            "/content/lighttrack/graph/torchlight\n"
          ]
        }
      ]
    },
    {
      "cell_type": "code",
      "source": [
        "!python setup.py install"
      ],
      "metadata": {
        "colab": {
          "base_uri": "https://localhost:8080/"
        },
        "id": "MfNHr2qUYfcw",
        "outputId": "6c271af9-abf2-4796-ddaf-fdcf66ea21c7"
      },
      "execution_count": null,
      "outputs": [
        {
          "output_type": "stream",
          "name": "stdout",
          "text": [
            "running install\n",
            "running bdist_egg\n",
            "running egg_info\n",
            "creating torchlight.egg-info\n",
            "writing torchlight.egg-info/PKG-INFO\n",
            "writing dependency_links to torchlight.egg-info/dependency_links.txt\n",
            "writing top-level names to torchlight.egg-info/top_level.txt\n",
            "writing manifest file 'torchlight.egg-info/SOURCES.txt'\n",
            "writing manifest file 'torchlight.egg-info/SOURCES.txt'\n",
            "installing library code to build/bdist.linux-x86_64/egg\n",
            "running install_lib\n",
            "running build_py\n",
            "creating build\n",
            "creating build/lib\n",
            "creating build/lib/torchlight\n",
            "copying torchlight/io.py -> build/lib/torchlight\n",
            "copying torchlight/__init__.py -> build/lib/torchlight\n",
            "copying torchlight/gpu.py -> build/lib/torchlight\n",
            "creating build/bdist.linux-x86_64\n",
            "creating build/bdist.linux-x86_64/egg\n",
            "creating build/bdist.linux-x86_64/egg/torchlight\n",
            "copying build/lib/torchlight/io.py -> build/bdist.linux-x86_64/egg/torchlight\n",
            "copying build/lib/torchlight/__init__.py -> build/bdist.linux-x86_64/egg/torchlight\n",
            "copying build/lib/torchlight/gpu.py -> build/bdist.linux-x86_64/egg/torchlight\n",
            "byte-compiling build/bdist.linux-x86_64/egg/torchlight/io.py to io.cpython-37.pyc\n",
            "byte-compiling build/bdist.linux-x86_64/egg/torchlight/__init__.py to __init__.cpython-37.pyc\n",
            "byte-compiling build/bdist.linux-x86_64/egg/torchlight/gpu.py to gpu.cpython-37.pyc\n",
            "creating build/bdist.linux-x86_64/egg/EGG-INFO\n",
            "copying torchlight.egg-info/PKG-INFO -> build/bdist.linux-x86_64/egg/EGG-INFO\n",
            "copying torchlight.egg-info/SOURCES.txt -> build/bdist.linux-x86_64/egg/EGG-INFO\n",
            "copying torchlight.egg-info/dependency_links.txt -> build/bdist.linux-x86_64/egg/EGG-INFO\n",
            "copying torchlight.egg-info/top_level.txt -> build/bdist.linux-x86_64/egg/EGG-INFO\n",
            "zip_safe flag not set; analyzing archive contents...\n",
            "creating dist\n",
            "creating 'dist/torchlight-1.0-py3.7.egg' and adding 'build/bdist.linux-x86_64/egg' to it\n",
            "removing 'build/bdist.linux-x86_64/egg' (and everything under it)\n",
            "Processing torchlight-1.0-py3.7.egg\n",
            "Copying torchlight-1.0-py3.7.egg to /usr/local/lib/python3.7/dist-packages\n",
            "Adding torchlight 1.0 to easy-install.pth file\n",
            "\n",
            "Installed /usr/local/lib/python3.7/dist-packages/torchlight-1.0-py3.7.egg\n",
            "Processing dependencies for torchlight==1.0\n",
            "Finished processing dependencies for torchlight==1.0\n"
          ]
        }
      ]
    },
    {
      "cell_type": "code",
      "source": [
        "! cd ../..\n",
        "! cd weights"
      ],
      "metadata": {
        "colab": {
          "base_uri": "https://localhost:8080/"
        },
        "id": "XuYA7dD0YizV",
        "outputId": "0a6d6118-f4f0-4698-9ee0-b668e3c11ad1"
      },
      "execution_count": null,
      "outputs": [
        {
          "output_type": "stream",
          "name": "stdout",
          "text": [
            "/content/lighttrack/weights\n"
          ]
        }
      ]
    },
    {
      "cell_type": "code",
      "source": [
        "!bash ./download_weights.sh"
      ],
      "metadata": {
        "colab": {
          "base_uri": "https://localhost:8080/"
        },
        "id": "HXf8fv_PabTE",
        "outputId": "ab9d97bd-2996-4c56-f4a2-366ee08b89b7"
      },
      "execution_count": null,
      "outputs": [
        {
          "output_type": "stream",
          "name": "stdout",
          "text": [
            "--2021-12-25 05:46:19--  http://guanghan.info/download/Data/LightTrack/weights/backbones.zip\n",
            "Resolving guanghan.info (guanghan.info)... 23.229.157.200\n",
            "Connecting to guanghan.info (guanghan.info)|23.229.157.200|:80... connected.\n",
            "HTTP request sent, awaiting response... 200 OK\n",
            "Length: 390483518 (372M) [application/zip]\n",
            "Saving to: ‘backbones.zip’\n",
            "\n",
            "backbones.zip       100%[===================>] 372.39M  42.7MB/s    in 10s     \n",
            "\n",
            "2021-12-25 05:46:29 (36.3 MB/s) - ‘backbones.zip’ saved [390483518/390483518]\n",
            "\n",
            "Archive:  backbones.zip\n",
            "  inflating: resnet101.ckpt          \n",
            "  inflating: resnet152.ckpt          \n",
            "--2021-12-25 05:46:34--  http://guanghan.info/download/Data/LightTrack/weights/YOLOv3.zip\n",
            "Resolving guanghan.info (guanghan.info)... 23.229.157.200\n",
            "Connecting to guanghan.info (guanghan.info)|23.229.157.200|:80... connected.\n",
            "HTTP request sent, awaiting response... 200 OK\n",
            "Length: 263450127 (251M) [application/zip]\n",
            "Saving to: ‘YOLOv3.zip’\n",
            "\n",
            "YOLOv3.zip          100%[===================>] 251.25M  42.9MB/s    in 7.2s    \n",
            "\n",
            "2021-12-25 05:46:41 (34.8 MB/s) - ‘YOLOv3.zip’ saved [263450127/263450127]\n",
            "\n",
            "Archive:  YOLOv3.zip\n",
            "   creating: YOLOv3/\n",
            "  inflating: YOLOv3/yolov3-tiny.weights  \n",
            "  inflating: YOLOv3/yolov3.weights   \n",
            "--2021-12-25 05:46:44--  http://guanghan.info/download/Data/LightTrack/weights/mobile-deconv.zip\n",
            "Resolving guanghan.info (guanghan.info)... 23.229.157.200\n",
            "Connecting to guanghan.info (guanghan.info)|23.229.157.200|:80... connected.\n",
            "HTTP request sent, awaiting response... 200 OK\n",
            "Length: 98443599 (94M) [application/zip]\n",
            "Saving to: ‘mobile-deconv.zip’\n",
            "\n",
            "mobile-deconv.zip   100%[===================>]  93.88M  26.5MB/s    in 3.8s    \n",
            "\n",
            "2021-12-25 05:46:48 (25.0 MB/s) - ‘mobile-deconv.zip’ saved [98443599/98443599]\n",
            "\n",
            "Archive:  mobile-deconv.zip\n",
            "   creating: mobile-deconv/\n",
            "  inflating: mobile-deconv/snapshot_296.ckpt.meta  \n",
            "  inflating: mobile-deconv/snapshot_296.ckpt.data-00000-of-00001  \n",
            "  inflating: mobile-deconv/snapshot_296.ckpt.index  \n",
            "--2021-12-25 05:46:50--  http://guanghan.info/download/Data/LightTrack/weights/CPN101.zip\n",
            "Resolving guanghan.info (guanghan.info)... 23.229.157.200\n",
            "Connecting to guanghan.info (guanghan.info)|23.229.157.200|:80... connected.\n",
            "HTTP request sent, awaiting response... 200 OK\n",
            "Length: 510124219 (486M) [application/zip]\n",
            "Saving to: ‘CPN101.zip’\n",
            "\n",
            "CPN101.zip          100%[===================>] 486.49M  42.8MB/s    in 13s     \n",
            "\n",
            "2021-12-25 05:47:03 (38.1 MB/s) - ‘CPN101.zip’ saved [510124219/510124219]\n",
            "\n",
            "Archive:  CPN101.zip\n",
            "   creating: CPN101/\n",
            "  inflating: CPN101/CPN_snapshot_293.ckpt.meta  \n",
            "  inflating: CPN101/CPN_snapshot_293.ckpt.index  \n",
            "  inflating: CPN101/CPN_snapshot_293.ckpt.data-00000-of-00001  \n",
            "--2021-12-25 05:47:09--  http://guanghan.info/download/Data/LightTrack/weights/MSRA152.zip\n",
            "Resolving guanghan.info (guanghan.info)... 23.229.157.200\n",
            "Connecting to guanghan.info (guanghan.info)|23.229.157.200|:80... connected.\n",
            "HTTP request sent, awaiting response... 200 OK\n",
            "Length: 740943381 (707M) [application/zip]\n",
            "Saving to: ‘MSRA152.zip’\n",
            "\n",
            "MSRA152.zip         100%[===================>] 706.62M  42.1MB/s    in 19s     \n",
            "\n",
            "2021-12-25 05:47:28 (38.1 MB/s) - ‘MSRA152.zip’ saved [740943381/740943381]\n",
            "\n",
            "Archive:  MSRA152.zip\n",
            "   creating: MSRA152/\n",
            "  inflating: MSRA152/MSRA_snapshot_285.ckpt.meta  \n",
            "  inflating: MSRA152/MSRA_snapshot_285.ckpt.data-00000-of-00001  \n",
            "  inflating: MSRA152/MSRA_snapshot_285.ckpt.index  \n",
            "   creating: __MACOSX/\n",
            "   creating: __MACOSX/MSRA152/\n",
            "  inflating: __MACOSX/MSRA152/._MSRA_snapshot_285.ckpt.index  \n",
            "--2021-12-25 05:47:38--  http://guanghan.info/download/Data/LightTrack/weights/GCN.zip\n",
            "Resolving guanghan.info (guanghan.info)... 23.229.157.200\n",
            "Connecting to guanghan.info (guanghan.info)|23.229.157.200|:80... connected.\n",
            "HTTP request sent, awaiting response... 200 OK\n",
            "Length: 82049 (80K) [application/zip]\n",
            "Saving to: ‘GCN.zip’\n",
            "\n",
            "GCN.zip             100%[===================>]  80.13K   388KB/s    in 0.2s    \n",
            "\n",
            "2021-12-25 05:47:38 (388 KB/s) - ‘GCN.zip’ saved [82049/82049]\n",
            "\n",
            "Archive:  GCN.zip\n",
            "   creating: GCN/\n",
            "  inflating: GCN/epoch210_model.pt   \n"
          ]
        }
      ]
    },
    {
      "cell_type": "code",
      "source": [
        "! cd ..\n",
        "! cd data/demo"
      ],
      "metadata": {
        "colab": {
          "base_uri": "https://localhost:8080/"
        },
        "id": "ieLtKKIDYnmn",
        "outputId": "07d55ebd-9382-4b14-fb12-7ba98396b3b4"
      },
      "execution_count": null,
      "outputs": [
        {
          "output_type": "stream",
          "name": "stdout",
          "text": [
            "/content/lighttrack/data/demo\n"
          ]
        }
      ]
    },
    {
      "cell_type": "markdown",
      "source": [
        "在文件夹lighttrack/data/demo中上传需要进行姿态估计的视频，并命名为video.mp4"
      ],
      "metadata": {
        "id": "ADJpq8EfAWXi"
      }
    },
    {
      "cell_type": "code",
      "source": [
        "! cd .."
      ],
      "metadata": {
        "colab": {
          "base_uri": "https://localhost:8080/"
        },
        "id": "kiFCEDsIYyLe",
        "outputId": "61e3ff05-dea5-4cfd-fd42-2227e76bafb2"
      },
      "execution_count": null,
      "outputs": [
        {
          "output_type": "stream",
          "name": "stdout",
          "text": [
            "/content/lighttrack\n"
          ]
        }
      ]
    },
    {
      "cell_type": "code",
      "source": [
        "! pip install setproctitle"
      ],
      "metadata": {
        "colab": {
          "base_uri": "https://localhost:8080/"
        },
        "id": "MhHyvRneaEdg",
        "outputId": "c111b1a8-cb31-4300-aaf8-db7dbfc559d1"
      },
      "execution_count": null,
      "outputs": [
        {
          "output_type": "stream",
          "name": "stdout",
          "text": [
            "Collecting setproctitle\n",
            "  Downloading setproctitle-1.2.2-cp37-cp37m-manylinux1_x86_64.whl (36 kB)\n",
            "Installing collected packages: setproctitle\n",
            "Successfully installed setproctitle-1.2.2\n"
          ]
        }
      ]
    },
    {
      "cell_type": "code",
      "source": [
        "! python demo_video_mobile.py"
      ],
      "metadata": {
        "colab": {
          "base_uri": "https://localhost:8080/"
        },
        "id": "oRPv-jAvZUCt",
        "outputId": "ee4b8640-46ac-4473-a64e-3e7259dbb9dd"
      },
      "execution_count": null,
      "outputs": [
        {
          "output_type": "stream",
          "name": "stdout",
          "text": [
            "/usr/local/lib/python3.7/dist-packages/tensorflow/python/framework/dtypes.py:526: FutureWarning: Passing (type, 1) or '1type' as a synonym of type is deprecated; in a future version of numpy, it will be understood as (type, (1,)) / '(1,)type'.\n",
            "  _np_qint8 = np.dtype([(\"qint8\", np.int8, 1)])\n",
            "/usr/local/lib/python3.7/dist-packages/tensorflow/python/framework/dtypes.py:527: FutureWarning: Passing (type, 1) or '1type' as a synonym of type is deprecated; in a future version of numpy, it will be understood as (type, (1,)) / '(1,)type'.\n",
            "  _np_quint8 = np.dtype([(\"quint8\", np.uint8, 1)])\n",
            "/usr/local/lib/python3.7/dist-packages/tensorflow/python/framework/dtypes.py:528: FutureWarning: Passing (type, 1) or '1type' as a synonym of type is deprecated; in a future version of numpy, it will be understood as (type, (1,)) / '(1,)type'.\n",
            "  _np_qint16 = np.dtype([(\"qint16\", np.int16, 1)])\n",
            "/usr/local/lib/python3.7/dist-packages/tensorflow/python/framework/dtypes.py:529: FutureWarning: Passing (type, 1) or '1type' as a synonym of type is deprecated; in a future version of numpy, it will be understood as (type, (1,)) / '(1,)type'.\n",
            "  _np_quint16 = np.dtype([(\"quint16\", np.uint16, 1)])\n",
            "/usr/local/lib/python3.7/dist-packages/tensorflow/python/framework/dtypes.py:530: FutureWarning: Passing (type, 1) or '1type' as a synonym of type is deprecated; in a future version of numpy, it will be understood as (type, (1,)) / '(1,)type'.\n",
            "  _np_qint32 = np.dtype([(\"qint32\", np.int32, 1)])\n",
            "/usr/local/lib/python3.7/dist-packages/tensorflow/python/framework/dtypes.py:535: FutureWarning: Passing (type, 1) or '1type' as a synonym of type is deprecated; in a future version of numpy, it will be understood as (type, (1,)) / '(1,)type'.\n",
            "  np_resource = np.dtype([(\"resource\", np.ubyte, 1)])\n",
            "Detector YOLOv3 options: Namespace(batch_size=1, checkpoint_model=None, conf_thres=0.8, config_path='detector/config/yolov3.cfg', img_size=416, n_cpu=8, nms_thres=0.4, weights_path='weights/YOLOv3/yolov3.weights')\n",
            "PoseTrack order.\n",
            "[12.25.21|08:45:21] Load weights from ./weights/GCN/epoch210_model.pt.\n",
            "[12.25.21|08:45:21] Load weights [A].\n",
            "[12.25.21|08:45:21] Load weights [data_bn.weight].\n",
            "[12.25.21|08:45:21] Load weights [data_bn.bias].\n",
            "[12.25.21|08:45:21] Load weights [data_bn.running_mean].\n",
            "[12.25.21|08:45:21] Load weights [data_bn.running_var].\n",
            "[12.25.21|08:45:21] Load weights [data_bn.num_batches_tracked].\n",
            "[12.25.21|08:45:21] Load weights [st_gcn_networks.0.gcn.conv.weight].\n",
            "[12.25.21|08:45:21] Load weights [st_gcn_networks.0.gcn.conv.bias].\n",
            "[12.25.21|08:45:21] Load weights [st_gcn_networks.1.gcn.conv.weight].\n",
            "[12.25.21|08:45:21] Load weights [st_gcn_networks.1.gcn.conv.bias].\n",
            "[12.25.21|08:45:21] Load weights [edge_importance.0].\n",
            "[12.25.21|08:45:21] Load weights [edge_importance.1].\n",
            "[12.25.21|08:45:21] Load weights [fcn.weight].\n",
            "[12.25.21|08:45:21] Load weights [fcn.bias].\n",
            "2021-12-25 08:45:21.327838: I tensorflow/core/platform/cpu_feature_guard.cc:141] Your CPU supports instructions that this TensorFlow binary was not compiled to use: AVX2 FMA\n",
            "2021-12-25 08:45:21.332826: I tensorflow/core/platform/profile_utils/cpu_utils.cc:94] CPU Frequency: 2299995000 Hz\n",
            "2021-12-25 08:45:21.333304: I tensorflow/compiler/xla/service/service.cc:150] XLA service 0x55fecfd2aec0 executing computations on platform Host. Devices:\n",
            "2021-12-25 08:45:21.333346: I tensorflow/compiler/xla/service/service.cc:158]   StreamExecutor device (0): <undefined>, <undefined>\n",
            "\u001b[92m12-25 08:45:21\u001b[0m Generating testing graph on 1 GPUs ...\n",
            "WARNING:tensorflow:From /usr/local/lib/python3.7/dist-packages/tensorflow/python/framework/op_def_library.py:263: colocate_with (from tensorflow.python.framework.ops) is deprecated and will be removed in a future version.\n",
            "Instructions for updating:\n",
            "Colocations handled automatically by placer.\n",
            "\u001b[92m12-25 08:45:27\u001b[0m Initialized model weights from weights/mobile-deconv/snapshot_296.ckpt ...\n",
            "No variables in weights/mobile-deconv/snapshot_296.ckpt fits the network\n",
            "\u001b[92m12-25 08:45:27\u001b[0m Current epoch is 296.\n",
            "unknown error reading video file\n",
            "/content/lighttrack/data/demo\n",
            "video.mp4\n",
            "Current tracking: [image_id:0]\n",
            "Keyframe: 13 detections\n",
            "Traceback (most recent call last):\n",
            "  File \"/usr/local/lib/python3.7/dist-packages/tensorflow/python/client/session.py\", line 1334, in _do_call\n",
            "    return fn(*args)\n",
            "  File \"/usr/local/lib/python3.7/dist-packages/tensorflow/python/client/session.py\", line 1319, in _run_fn\n",
            "    options, feed_dict, fetch_list, target_list, run_metadata)\n",
            "  File \"/usr/local/lib/python3.7/dist-packages/tensorflow/python/client/session.py\", line 1407, in _call_tf_sessionrun\n",
            "    run_metadata)\n",
            "tensorflow.python.framework.errors_impl.FailedPreconditionError: Attempting to use uninitialized value resnet_v1_101/block3/unit_8/bottleneck_v1/conv1/BatchNorm/gamma\n",
            "\t [[{{node resnet_v1_101/block3/unit_8/bottleneck_v1/conv1/BatchNorm/gamma/read}}]]\n",
            "\n",
            "During handling of the above exception, another exception occurred:\n",
            "\n",
            "Traceback (most recent call last):\n",
            "  File \"demo_video_mobile.py\", line 817, in <module>\n",
            "    visualize_folder, output_video_path)\n",
            "  File \"demo_video_mobile.py\", line 198, in light_track\n",
            "    keypoints = inference_keypoints(pose_estimator, bbox_det_dict)[0][\"keypoints\"]\n",
            "  File \"demo_video_mobile.py\", line 570, in inference_keypoints\n",
            "    pose_heatmaps, details, cls_skeleton, crops, start_id, end_id = get_pose_from_bbox(pose_estimator, test_data, cfg)\n",
            "  File \"demo_video_mobile.py\", line 618, in get_pose_from_bbox\n",
            "    res = pose_estimator.predict_one([feed.transpose(0, 2, 3, 1).astype(np.float32)])[0]\n",
            "  File \"/content/lighttrack/HPE/../lib/tfflat/base.py\", line 419, in predict_one\n",
            "    res = self.sess.run([*self.graph_ops, *self.summary_dict.values()], feed_dict=feed_dict)\n",
            "  File \"/usr/local/lib/python3.7/dist-packages/tensorflow/python/client/session.py\", line 929, in run\n",
            "    run_metadata_ptr)\n",
            "  File \"/usr/local/lib/python3.7/dist-packages/tensorflow/python/client/session.py\", line 1152, in _run\n",
            "    feed_dict_tensor, options, run_metadata)\n",
            "  File \"/usr/local/lib/python3.7/dist-packages/tensorflow/python/client/session.py\", line 1328, in _do_run\n",
            "    run_metadata)\n",
            "  File \"/usr/local/lib/python3.7/dist-packages/tensorflow/python/client/session.py\", line 1348, in _do_call\n",
            "    raise type(e)(node_def, op, message)\n",
            "tensorflow.python.framework.errors_impl.FailedPreconditionError: Attempting to use uninitialized value resnet_v1_101/block3/unit_8/bottleneck_v1/conv1/BatchNorm/gamma\n",
            "\t [[node resnet_v1_101/block3/unit_8/bottleneck_v1/conv1/BatchNorm/gamma/read (defined at /content/lighttrack/HPE/../lib/nets/resnet_v1.py:117) ]]\n",
            "\n",
            "Caused by op 'resnet_v1_101/block3/unit_8/bottleneck_v1/conv1/BatchNorm/gamma/read', defined at:\n",
            "  File \"demo_video_mobile.py\", line 794, in <module>\n",
            "    pose_estimator = Tester(Network(), cfg)\n",
            "  File \"/content/lighttrack/HPE/../lib/tfflat/base.py\", line 336, in __init__\n",
            "    super(Tester, self).__init__(net, cfg, data_iter, log_name='test_logs.txt')\n",
            "  File \"/content/lighttrack/HPE/../lib/tfflat/base.py\", line 126, in __init__\n",
            "    self.build_graph()\n",
            "  File \"/content/lighttrack/HPE/../lib/tfflat/base.py\", line 139, in build_graph\n",
            "    self.graph_ops = self._make_graph()\n",
            "  File \"/content/lighttrack/HPE/../lib/tfflat/base.py\", line 388, in _make_graph\n",
            "    self.net.make_network(is_train=False)\n",
            "  File \"/content/lighttrack/network_CPN101.py\", line 116, in make_network\n",
            "    resnet_fms = resnet101(image, is_train, bn_trainable=True)\n",
            "  File \"/content/lighttrack/HPE/../lib/nets/basemodel.py\", line 119, in resnet101\n",
            "    scope='resnet_v1_101')\n",
            "  File \"/content/lighttrack/HPE/../lib/nets/resnet_v1.py\", line 204, in resnet_v1\n",
            "    net = resnet_utils.stack_blocks_dense(net, blocks, output_stride)\n",
            "  File \"/usr/local/lib/python3.7/dist-packages/tensorflow/contrib/framework/python/ops/arg_scope.py\", line 182, in func_with_args\n",
            "    return func(*args, **current_args)\n",
            "  File \"/content/lighttrack/HPE/../lib/nets/resnet_utils.py\", line 227, in stack_blocks_dense\n",
            "    rate=1)\n",
            "  File \"/usr/local/lib/python3.7/dist-packages/tensorflow/contrib/framework/python/ops/arg_scope.py\", line 182, in func_with_args\n",
            "    return func(*args, **current_args)\n",
            "  File \"/content/lighttrack/HPE/../lib/nets/resnet_v1.py\", line 117, in bottleneck\n",
            "    inputs, depth_bottleneck, [1, 1], stride=1, scope='conv1')\n",
            "  File \"/usr/local/lib/python3.7/dist-packages/tensorflow/contrib/framework/python/ops/arg_scope.py\", line 182, in func_with_args\n",
            "    return func(*args, **current_args)\n",
            "  File \"/usr/local/lib/python3.7/dist-packages/tensorflow/contrib/layers/python/layers/layers.py\", line 1155, in convolution2d\n",
            "    conv_dims=2)\n",
            "  File \"/usr/local/lib/python3.7/dist-packages/tensorflow/contrib/framework/python/ops/arg_scope.py\", line 182, in func_with_args\n",
            "    return func(*args, **current_args)\n",
            "  File \"/usr/local/lib/python3.7/dist-packages/tensorflow/contrib/layers/python/layers/layers.py\", line 1067, in convolution\n",
            "    outputs = normalizer_fn(outputs, **normalizer_params)\n",
            "  File \"/usr/local/lib/python3.7/dist-packages/tensorflow/contrib/framework/python/ops/arg_scope.py\", line 182, in func_with_args\n",
            "    return func(*args, **current_args)\n",
            "  File \"/usr/local/lib/python3.7/dist-packages/tensorflow/contrib/layers/python/layers/layers.py\", line 651, in batch_norm\n",
            "    outputs = layer.apply(inputs, training=is_training)\n",
            "  File \"/usr/local/lib/python3.7/dist-packages/tensorflow/python/keras/engine/base_layer.py\", line 1227, in apply\n",
            "    return self.__call__(inputs, *args, **kwargs)\n",
            "  File \"/usr/local/lib/python3.7/dist-packages/tensorflow/python/layers/base.py\", line 530, in __call__\n",
            "    outputs = super(Layer, self).__call__(inputs, *args, **kwargs)\n",
            "  File \"/usr/local/lib/python3.7/dist-packages/tensorflow/python/keras/engine/base_layer.py\", line 538, in __call__\n",
            "    self._maybe_build(inputs)\n",
            "  File \"/usr/local/lib/python3.7/dist-packages/tensorflow/python/keras/engine/base_layer.py\", line 1603, in _maybe_build\n",
            "    self.build(input_shapes)\n",
            "  File \"/usr/local/lib/python3.7/dist-packages/tensorflow/python/keras/layers/normalization.py\", line 330, in build\n",
            "    trainable=True)\n",
            "  File \"/usr/local/lib/python3.7/dist-packages/tensorflow/python/layers/base.py\", line 435, in add_weight\n",
            "    getter=vs.get_variable)\n",
            "  File \"/usr/local/lib/python3.7/dist-packages/tensorflow/python/keras/engine/base_layer.py\", line 349, in add_weight\n",
            "    aggregation=aggregation)\n",
            "  File \"/usr/local/lib/python3.7/dist-packages/tensorflow/python/training/checkpointable/base.py\", line 607, in _add_variable_with_custom_getter\n",
            "    **kwargs_for_getter)\n",
            "  File \"/usr/local/lib/python3.7/dist-packages/tensorflow/python/ops/variable_scope.py\", line 1479, in get_variable\n",
            "    aggregation=aggregation)\n",
            "  File \"/usr/local/lib/python3.7/dist-packages/tensorflow/python/ops/variable_scope.py\", line 1220, in get_variable\n",
            "    aggregation=aggregation)\n",
            "  File \"/usr/local/lib/python3.7/dist-packages/tensorflow/python/ops/variable_scope.py\", line 530, in get_variable\n",
            "    return custom_getter(**custom_getter_kwargs)\n",
            "  File \"/usr/local/lib/python3.7/dist-packages/tensorflow/python/ops/variable_scope.py\", line 1938, in wrapped_custom_getter\n",
            "    *args, **kwargs)\n",
            "  File \"/usr/local/lib/python3.7/dist-packages/tensorflow/contrib/layers/python/layers/layers.py\", line 1750, in layer_variable_getter\n",
            "    return _model_variable_getter(getter, *args, **kwargs)\n",
            "  File \"/usr/local/lib/python3.7/dist-packages/tensorflow/contrib/layers/python/layers/layers.py\", line 1741, in _model_variable_getter\n",
            "    aggregation=aggregation)\n",
            "  File \"/usr/local/lib/python3.7/dist-packages/tensorflow/contrib/framework/python/ops/arg_scope.py\", line 182, in func_with_args\n",
            "    return func(*args, **current_args)\n",
            "  File \"/usr/local/lib/python3.7/dist-packages/tensorflow/contrib/framework/python/ops/variables.py\", line 350, in model_variable\n",
            "    aggregation=aggregation)\n",
            "  File \"/usr/local/lib/python3.7/dist-packages/tensorflow/contrib/framework/python/ops/arg_scope.py\", line 182, in func_with_args\n",
            "    return func(*args, **current_args)\n",
            "  File \"/usr/local/lib/python3.7/dist-packages/tensorflow/contrib/framework/python/ops/variables.py\", line 277, in variable\n",
            "    aggregation=aggregation)\n",
            "  File \"/usr/local/lib/python3.7/dist-packages/tensorflow/contrib/layers/python/layers/layers.py\", line 1750, in layer_variable_getter\n",
            "    return _model_variable_getter(getter, *args, **kwargs)\n",
            "  File \"/usr/local/lib/python3.7/dist-packages/tensorflow/contrib/layers/python/layers/layers.py\", line 1741, in _model_variable_getter\n",
            "    aggregation=aggregation)\n",
            "  File \"/usr/local/lib/python3.7/dist-packages/tensorflow/contrib/framework/python/ops/arg_scope.py\", line 182, in func_with_args\n",
            "    return func(*args, **current_args)\n",
            "  File \"/usr/local/lib/python3.7/dist-packages/tensorflow/contrib/framework/python/ops/variables.py\", line 350, in model_variable\n",
            "    aggregation=aggregation)\n",
            "  File \"/usr/local/lib/python3.7/dist-packages/tensorflow/contrib/framework/python/ops/arg_scope.py\", line 182, in func_with_args\n",
            "    return func(*args, **current_args)\n",
            "  File \"/usr/local/lib/python3.7/dist-packages/tensorflow/contrib/framework/python/ops/variables.py\", line 277, in variable\n",
            "    aggregation=aggregation)\n",
            "  File \"/usr/local/lib/python3.7/dist-packages/tensorflow/python/ops/variable_scope.py\", line 499, in _true_getter\n",
            "    aggregation=aggregation)\n",
            "  File \"/usr/local/lib/python3.7/dist-packages/tensorflow/python/ops/variable_scope.py\", line 911, in _get_single_variable\n",
            "    aggregation=aggregation)\n",
            "  File \"/usr/local/lib/python3.7/dist-packages/tensorflow/python/ops/variables.py\", line 213, in __call__\n",
            "    return cls._variable_v1_call(*args, **kwargs)\n",
            "  File \"/usr/local/lib/python3.7/dist-packages/tensorflow/python/ops/variables.py\", line 176, in _variable_v1_call\n",
            "    aggregation=aggregation)\n",
            "  File \"/usr/local/lib/python3.7/dist-packages/tensorflow/python/ops/variables.py\", line 155, in <lambda>\n",
            "    previous_getter = lambda **kwargs: default_variable_creator(None, **kwargs)\n",
            "  File \"/usr/local/lib/python3.7/dist-packages/tensorflow/python/ops/variable_scope.py\", line 2495, in default_variable_creator\n",
            "    expected_shape=expected_shape, import_scope=import_scope)\n",
            "  File \"/usr/local/lib/python3.7/dist-packages/tensorflow/python/ops/variables.py\", line 217, in __call__\n",
            "    return super(VariableMetaclass, cls).__call__(*args, **kwargs)\n",
            "  File \"/usr/local/lib/python3.7/dist-packages/tensorflow/python/ops/variables.py\", line 1395, in __init__\n",
            "    constraint=constraint)\n",
            "  File \"/usr/local/lib/python3.7/dist-packages/tensorflow/python/ops/variables.py\", line 1557, in _init_from_args\n",
            "    self._snapshot = array_ops.identity(self._variable, name=\"read\")\n",
            "  File \"/usr/local/lib/python3.7/dist-packages/tensorflow/python/util/dispatch.py\", line 180, in wrapper\n",
            "    return target(*args, **kwargs)\n",
            "  File \"/usr/local/lib/python3.7/dist-packages/tensorflow/python/ops/array_ops.py\", line 81, in identity\n",
            "    ret = gen_array_ops.identity(input, name=name)\n",
            "  File \"/usr/local/lib/python3.7/dist-packages/tensorflow/python/ops/gen_array_ops.py\", line 3890, in identity\n",
            "    \"Identity\", input=input, name=name)\n",
            "  File \"/usr/local/lib/python3.7/dist-packages/tensorflow/python/framework/op_def_library.py\", line 788, in _apply_op_helper\n",
            "    op_def=op_def)\n",
            "  File \"/usr/local/lib/python3.7/dist-packages/tensorflow/python/util/deprecation.py\", line 507, in new_func\n",
            "    return func(*args, **kwargs)\n",
            "  File \"/usr/local/lib/python3.7/dist-packages/tensorflow/python/framework/ops.py\", line 3300, in create_op\n",
            "    op_def=op_def)\n",
            "  File \"/usr/local/lib/python3.7/dist-packages/tensorflow/python/framework/ops.py\", line 1801, in __init__\n",
            "    self._traceback = tf_stack.extract_stack()\n",
            "\n",
            "FailedPreconditionError (see above for traceback): Attempting to use uninitialized value resnet_v1_101/block3/unit_8/bottleneck_v1/conv1/BatchNorm/gamma\n",
            "\t [[node resnet_v1_101/block3/unit_8/bottleneck_v1/conv1/BatchNorm/gamma/read (defined at /content/lighttrack/HPE/../lib/nets/resnet_v1.py:117) ]]\n",
            "\n"
          ]
        }
      ]
    },
    {
      "cell_type": "markdown",
      "source": [
        "输出文件在lighttrack/data/demo/videos里面"
      ],
      "metadata": {
        "id": "PLHQG6Rcc8Ft"
      }
    },
    {
      "cell_type": "markdown",
      "source": [
        "可以删除生成的文件"
      ],
      "metadata": {
        "id": "QMUGKovzAqZC"
      }
    },
    {
      "cell_type": "code",
      "source": [
        "! rm -rf data/demo/jsons\n",
        "! rm -rf data/demo/video\n",
        "! rm -rf data/demo/videos\n",
        "! rm -rf data/demo/visualize"
      ],
      "metadata": {
        "id": "spuPw5IZZXck"
      },
      "execution_count": null,
      "outputs": []
    }
  ]
}